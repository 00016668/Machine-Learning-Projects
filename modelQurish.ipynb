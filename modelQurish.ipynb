{
 "cells": [
  {
   "cell_type": "code",
   "execution_count": 1,
   "id": "46a02161",
   "metadata": {},
   "outputs": [],
   "source": [
    "import pandas as pd\n",
    "import numpy as np\n",
    "import matplotlib.pyplot as plt\n",
    "import seaborn as sns\n",
    "import sklearn"
   ]
  },
  {
   "cell_type": "code",
   "execution_count": 2,
   "id": "422f83dc",
   "metadata": {},
   "outputs": [],
   "source": [
    "# Online dataset joylashgan joy uni ochish\n",
    "URL = \"https://github.com/ageron/handson-ml2/blob/master/datasets/housing/housing.csv?raw=true\"\n",
    "df = pd.read_csv(URL)"
   ]
  },
  {
   "cell_type": "code",
   "execution_count": 4,
   "id": "77cc5fc5",
   "metadata": {},
   "outputs": [],
   "source": [
    "from sklearn.model_selection import train_test_split\n",
    "train_set, test_set = train_test_split(df, test_size=0.2, random_state=42)\n",
    "\n",
    "X_train =  train_set.drop('median_house_value', axis=1)\n",
    "y = train_set[\"median_house_value\"].copy()\n",
    "\n",
    "X_num = X_train.drop('ocean_proximity', axis=1)"
   ]
  },
  {
   "cell_type": "code",
   "execution_count": 5,
   "id": "d731510f",
   "metadata": {},
   "outputs": [],
   "source": [
    "# Biz o'zimiz ham transformerlar yasashimiz mukin\n",
    "\n",
    "from sklearn.base import BaseEstimator, TransformerMixin\n",
    "\n",
    "#bizga kerakli ustun indekslari\n",
    "rooms_ix, bedrooms_ix, population_ix, households_ix = 3, 4, 5, 6\n",
    "\n",
    "class CombinedAttributesAdder(BaseEstimator, TransformerMixin):\n",
    "    def __init__(self, add_bedrooms_per_room = True):\n",
    "        self.add_bedrooms_per_room = add_bedrooms_per_room\n",
    "    def fit(self, X, y=None):\n",
    "        return self # bizni funksiyamiz faqat transformer, estimator emas\n",
    "    def transform(self, X):\n",
    "        rooms_per_household = X[:, rooms_ix] / X[:, households_ix]\n",
    "        population_per_household = X[:, population_ix] / X[:, households_ix]\n",
    "        if self.add_bedrooms_per_room: # add_bedrooms_per_room ustuni ixtiyoriy bo'ladi\n",
    "            bedrooms_per_room = X[:, bedrooms_ix] / X[:, rooms_ix]\n",
    "            return np.c_[X, rooms_per_household, population_per_household, bedrooms_per_room]\n",
    "        else:\n",
    "            return np.c_[X, rooms_per_household, population_per_household]"
   ]
  },
  {
   "cell_type": "code",
   "execution_count": 6,
   "id": "55802edd",
   "metadata": {},
   "outputs": [],
   "source": [
    "from sklearn.pipeline  import Pipeline\n",
    "from sklearn.impute import SimpleImputer\n",
    "from sklearn.preprocessing import OneHotEncoder, StandardScaler\n",
    "\n",
    "num_pipeline = Pipeline([\n",
    "    ('imputer', SimpleImputer(strategy='median')),\n",
    "    ('attribs_adder', CombinedAttributesAdder(add_bedrooms_per_room = True)),\n",
    "    ('std_scaler', StandardScaler())\n",
    "])\n"
   ]
  },
  {
   "cell_type": "code",
   "execution_count": 8,
   "id": "21246699",
   "metadata": {},
   "outputs": [],
   "source": [
    "# Ammo matnlar bilan ishlash uchun alohida conver yaratishimiz kerak bo'ladi\n",
    "from sklearn.compose import ColumnTransformer\n",
    "\n",
    "num_attribs = list(X_num)\n",
    "cat_attribs = ['ocean_proximity']\n",
    "\n",
    "# yakuniy katta konver\n",
    "full_pipeline = ColumnTransformer([\n",
    "    ('num', num_pipeline, num_attribs),\n",
    "    ('cat', OneHotEncoder(), cat_attribs)\n",
    "])\n",
    "\n",
    "X_prepared = full_pipeline.fit_transform(X_train)"
   ]
  },
  {
   "cell_type": "code",
   "execution_count": 9,
   "id": "498dafc2",
   "metadata": {},
   "outputs": [
    {
     "data": {
      "text/plain": [
       "array([[ 1.27258656, -1.3728112 ,  0.34849025, ...,  0.        ,\n",
       "         0.        ,  1.        ],\n",
       "       [ 0.70916212, -0.87669601,  1.61811813, ...,  0.        ,\n",
       "         0.        ,  1.        ],\n",
       "       [-0.44760309, -0.46014647, -1.95271028, ...,  0.        ,\n",
       "         0.        ,  1.        ],\n",
       "       ...,\n",
       "       [ 0.59946887, -0.75500738,  0.58654547, ...,  0.        ,\n",
       "         0.        ,  0.        ],\n",
       "       [-1.18553953,  0.90651045, -1.07984112, ...,  0.        ,\n",
       "         0.        ,  0.        ],\n",
       "       [-1.41489815,  0.99543676,  1.85617335, ...,  0.        ,\n",
       "         1.        ,  0.        ]])"
      ]
     },
     "execution_count": 9,
     "metadata": {},
     "output_type": "execute_result"
    }
   ],
   "source": [
    "X_prepared"
   ]
  },
  {
   "cell_type": "code",
   "execution_count": 10,
   "id": "8a2fbe7b",
   "metadata": {},
   "outputs": [],
   "source": [
    "# Linear regression"
   ]
  },
  {
   "cell_type": "code",
   "execution_count": 44,
   "id": "0ba724d5",
   "metadata": {},
   "outputs": [],
   "source": [
    "from sklearn.linear_model import LinearRegression\n",
    "\n",
    "LR_model = LinearRegression()"
   ]
  },
  {
   "cell_type": "code",
   "execution_count": 12,
   "id": "c12c6322",
   "metadata": {},
   "outputs": [
    {
     "data": {
      "text/plain": [
       "LinearRegression()"
      ]
     },
     "execution_count": 12,
     "metadata": {},
     "output_type": "execute_result"
    }
   ],
   "source": [
    "LR_model.fit(X_prepared, y)"
   ]
  },
  {
   "cell_type": "code",
   "execution_count": 13,
   "id": "69935a51",
   "metadata": {},
   "outputs": [
    {
     "data": {
      "text/html": [
       "<div>\n",
       "<style scoped>\n",
       "    .dataframe tbody tr th:only-of-type {\n",
       "        vertical-align: middle;\n",
       "    }\n",
       "\n",
       "    .dataframe tbody tr th {\n",
       "        vertical-align: top;\n",
       "    }\n",
       "\n",
       "    .dataframe thead th {\n",
       "        text-align: right;\n",
       "    }\n",
       "</style>\n",
       "<table border=\"1\" class=\"dataframe\">\n",
       "  <thead>\n",
       "    <tr style=\"text-align: right;\">\n",
       "      <th></th>\n",
       "      <th>longitude</th>\n",
       "      <th>latitude</th>\n",
       "      <th>housing_median_age</th>\n",
       "      <th>total_rooms</th>\n",
       "      <th>total_bedrooms</th>\n",
       "      <th>population</th>\n",
       "      <th>households</th>\n",
       "      <th>median_income</th>\n",
       "      <th>ocean_proximity</th>\n",
       "    </tr>\n",
       "  </thead>\n",
       "  <tbody>\n",
       "    <tr>\n",
       "      <th>4988</th>\n",
       "      <td>-118.31</td>\n",
       "      <td>34.00</td>\n",
       "      <td>52.0</td>\n",
       "      <td>2709.0</td>\n",
       "      <td>642.0</td>\n",
       "      <td>1751.0</td>\n",
       "      <td>613.0</td>\n",
       "      <td>2.1116</td>\n",
       "      <td>&lt;1H OCEAN</td>\n",
       "    </tr>\n",
       "    <tr>\n",
       "      <th>7768</th>\n",
       "      <td>-118.09</td>\n",
       "      <td>33.91</td>\n",
       "      <td>14.0</td>\n",
       "      <td>2369.0</td>\n",
       "      <td>604.0</td>\n",
       "      <td>1546.0</td>\n",
       "      <td>464.0</td>\n",
       "      <td>3.7969</td>\n",
       "      <td>&lt;1H OCEAN</td>\n",
       "    </tr>\n",
       "    <tr>\n",
       "      <th>13705</th>\n",
       "      <td>-117.22</td>\n",
       "      <td>34.12</td>\n",
       "      <td>30.0</td>\n",
       "      <td>2512.0</td>\n",
       "      <td>597.0</td>\n",
       "      <td>1390.0</td>\n",
       "      <td>523.0</td>\n",
       "      <td>2.3725</td>\n",
       "      <td>INLAND</td>\n",
       "    </tr>\n",
       "    <tr>\n",
       "      <th>11004</th>\n",
       "      <td>-117.81</td>\n",
       "      <td>33.75</td>\n",
       "      <td>25.0</td>\n",
       "      <td>2365.0</td>\n",
       "      <td>471.0</td>\n",
       "      <td>1197.0</td>\n",
       "      <td>458.0</td>\n",
       "      <td>3.7031</td>\n",
       "      <td>&lt;1H OCEAN</td>\n",
       "    </tr>\n",
       "    <tr>\n",
       "      <th>19505</th>\n",
       "      <td>-121.03</td>\n",
       "      <td>37.64</td>\n",
       "      <td>22.0</td>\n",
       "      <td>2001.0</td>\n",
       "      <td>387.0</td>\n",
       "      <td>1520.0</td>\n",
       "      <td>387.0</td>\n",
       "      <td>3.1480</td>\n",
       "      <td>INLAND</td>\n",
       "    </tr>\n",
       "    <tr>\n",
       "      <th>9225</th>\n",
       "      <td>-120.06</td>\n",
       "      <td>36.94</td>\n",
       "      <td>19.0</td>\n",
       "      <td>901.0</td>\n",
       "      <td>183.0</td>\n",
       "      <td>700.0</td>\n",
       "      <td>190.0</td>\n",
       "      <td>2.2375</td>\n",
       "      <td>INLAND</td>\n",
       "    </tr>\n",
       "    <tr>\n",
       "      <th>5454</th>\n",
       "      <td>-118.46</td>\n",
       "      <td>34.00</td>\n",
       "      <td>36.0</td>\n",
       "      <td>1392.0</td>\n",
       "      <td>260.0</td>\n",
       "      <td>679.0</td>\n",
       "      <td>247.0</td>\n",
       "      <td>4.7344</td>\n",
       "      <td>&lt;1H OCEAN</td>\n",
       "    </tr>\n",
       "    <tr>\n",
       "      <th>11558</th>\n",
       "      <td>-117.99</td>\n",
       "      <td>33.77</td>\n",
       "      <td>29.0</td>\n",
       "      <td>1312.0</td>\n",
       "      <td>267.0</td>\n",
       "      <td>922.0</td>\n",
       "      <td>255.0</td>\n",
       "      <td>3.1902</td>\n",
       "      <td>&lt;1H OCEAN</td>\n",
       "    </tr>\n",
       "    <tr>\n",
       "      <th>10643</th>\n",
       "      <td>-117.79</td>\n",
       "      <td>33.56</td>\n",
       "      <td>36.0</td>\n",
       "      <td>2057.0</td>\n",
       "      <td>329.0</td>\n",
       "      <td>658.0</td>\n",
       "      <td>309.0</td>\n",
       "      <td>7.8660</td>\n",
       "      <td>&lt;1H OCEAN</td>\n",
       "    </tr>\n",
       "    <tr>\n",
       "      <th>17313</th>\n",
       "      <td>-120.18</td>\n",
       "      <td>34.75</td>\n",
       "      <td>17.0</td>\n",
       "      <td>2074.0</td>\n",
       "      <td>382.0</td>\n",
       "      <td>1035.0</td>\n",
       "      <td>359.0</td>\n",
       "      <td>3.7958</td>\n",
       "      <td>&lt;1H OCEAN</td>\n",
       "    </tr>\n",
       "  </tbody>\n",
       "</table>\n",
       "</div>"
      ],
      "text/plain": [
       "       longitude  latitude  housing_median_age  total_rooms  total_bedrooms  \\\n",
       "4988     -118.31     34.00                52.0       2709.0           642.0   \n",
       "7768     -118.09     33.91                14.0       2369.0           604.0   \n",
       "13705    -117.22     34.12                30.0       2512.0           597.0   \n",
       "11004    -117.81     33.75                25.0       2365.0           471.0   \n",
       "19505    -121.03     37.64                22.0       2001.0           387.0   \n",
       "9225     -120.06     36.94                19.0        901.0           183.0   \n",
       "5454     -118.46     34.00                36.0       1392.0           260.0   \n",
       "11558    -117.99     33.77                29.0       1312.0           267.0   \n",
       "10643    -117.79     33.56                36.0       2057.0           329.0   \n",
       "17313    -120.18     34.75                17.0       2074.0           382.0   \n",
       "\n",
       "       population  households  median_income ocean_proximity  \n",
       "4988       1751.0       613.0         2.1116       <1H OCEAN  \n",
       "7768       1546.0       464.0         3.7969       <1H OCEAN  \n",
       "13705      1390.0       523.0         2.3725          INLAND  \n",
       "11004      1197.0       458.0         3.7031       <1H OCEAN  \n",
       "19505      1520.0       387.0         3.1480          INLAND  \n",
       "9225        700.0       190.0         2.2375          INLAND  \n",
       "5454        679.0       247.0         4.7344       <1H OCEAN  \n",
       "11558       922.0       255.0         3.1902       <1H OCEAN  \n",
       "10643       658.0       309.0         7.8660       <1H OCEAN  \n",
       "17313      1035.0       359.0         3.7958       <1H OCEAN  "
      ]
     },
     "execution_count": 13,
     "metadata": {},
     "output_type": "execute_result"
    }
   ],
   "source": [
    "test_data = X_train.sample(10)\n",
    "test_data"
   ]
  },
  {
   "cell_type": "code",
   "execution_count": 14,
   "id": "328bffa5",
   "metadata": {},
   "outputs": [
    {
     "data": {
      "text/plain": [
       "4988     122500.0\n",
       "7768     159400.0\n",
       "13705     77200.0\n",
       "11004    227800.0\n",
       "19505    102300.0\n",
       "9225      64300.0\n",
       "5454     346900.0\n",
       "11558    202400.0\n",
       "10643    500001.0\n",
       "17313    400000.0\n",
       "Name: median_house_value, dtype: float64"
      ]
     },
     "execution_count": 14,
     "metadata": {},
     "output_type": "execute_result"
    }
   ],
   "source": [
    "test_label = y.loc[test_data.index]\n",
    "test_label"
   ]
  },
  {
   "cell_type": "code",
   "execution_count": 16,
   "id": "2d048c50",
   "metadata": {},
   "outputs": [],
   "source": [
    "test_data_prepared = full_pipeline.transform(test_data)\n",
    "predicted_labels = LR_model.predict(test_data_prepared)"
   ]
  },
  {
   "cell_type": "code",
   "execution_count": 17,
   "id": "508dc1ab",
   "metadata": {},
   "outputs": [
    {
     "data": {
      "text/plain": [
       "array([183131.23749499, 205260.24117514, 106088.94178991, 205939.59027785,\n",
       "       107593.22304161,  66297.63174002, 264069.66490074, 179287.79441658,\n",
       "       392245.76805923, 232694.90078557])"
      ]
     },
     "execution_count": 17,
     "metadata": {},
     "output_type": "execute_result"
    }
   ],
   "source": [
    "predicted_labels"
   ]
  },
  {
   "cell_type": "code",
   "execution_count": 19,
   "id": "538c228a",
   "metadata": {},
   "outputs": [
    {
     "data": {
      "text/html": [
       "<div>\n",
       "<style scoped>\n",
       "    .dataframe tbody tr th:only-of-type {\n",
       "        vertical-align: middle;\n",
       "    }\n",
       "\n",
       "    .dataframe tbody tr th {\n",
       "        vertical-align: top;\n",
       "    }\n",
       "\n",
       "    .dataframe thead th {\n",
       "        text-align: right;\n",
       "    }\n",
       "</style>\n",
       "<table border=\"1\" class=\"dataframe\">\n",
       "  <thead>\n",
       "    <tr style=\"text-align: right;\">\n",
       "      <th></th>\n",
       "      <th>Bashorat</th>\n",
       "      <th>Real Narxi</th>\n",
       "    </tr>\n",
       "  </thead>\n",
       "  <tbody>\n",
       "    <tr>\n",
       "      <th>4988</th>\n",
       "      <td>183131.237495</td>\n",
       "      <td>122500.0</td>\n",
       "    </tr>\n",
       "    <tr>\n",
       "      <th>7768</th>\n",
       "      <td>205260.241175</td>\n",
       "      <td>159400.0</td>\n",
       "    </tr>\n",
       "    <tr>\n",
       "      <th>13705</th>\n",
       "      <td>106088.941790</td>\n",
       "      <td>77200.0</td>\n",
       "    </tr>\n",
       "    <tr>\n",
       "      <th>11004</th>\n",
       "      <td>205939.590278</td>\n",
       "      <td>227800.0</td>\n",
       "    </tr>\n",
       "    <tr>\n",
       "      <th>19505</th>\n",
       "      <td>107593.223042</td>\n",
       "      <td>102300.0</td>\n",
       "    </tr>\n",
       "    <tr>\n",
       "      <th>9225</th>\n",
       "      <td>66297.631740</td>\n",
       "      <td>64300.0</td>\n",
       "    </tr>\n",
       "    <tr>\n",
       "      <th>5454</th>\n",
       "      <td>264069.664901</td>\n",
       "      <td>346900.0</td>\n",
       "    </tr>\n",
       "    <tr>\n",
       "      <th>11558</th>\n",
       "      <td>179287.794417</td>\n",
       "      <td>202400.0</td>\n",
       "    </tr>\n",
       "    <tr>\n",
       "      <th>10643</th>\n",
       "      <td>392245.768059</td>\n",
       "      <td>500001.0</td>\n",
       "    </tr>\n",
       "    <tr>\n",
       "      <th>17313</th>\n",
       "      <td>232694.900786</td>\n",
       "      <td>400000.0</td>\n",
       "    </tr>\n",
       "  </tbody>\n",
       "</table>\n",
       "</div>"
      ],
      "text/plain": [
       "            Bashorat  Real Narxi\n",
       "4988   183131.237495    122500.0\n",
       "7768   205260.241175    159400.0\n",
       "13705  106088.941790     77200.0\n",
       "11004  205939.590278    227800.0\n",
       "19505  107593.223042    102300.0\n",
       "9225    66297.631740     64300.0\n",
       "5454   264069.664901    346900.0\n",
       "11558  179287.794417    202400.0\n",
       "10643  392245.768059    500001.0\n",
       "17313  232694.900786    400000.0"
      ]
     },
     "execution_count": 19,
     "metadata": {},
     "output_type": "execute_result"
    }
   ],
   "source": [
    "pd.DataFrame({\n",
    "    'Bashorat':predicted_labels,\n",
    "    'Real Narxi': test_label\n",
    "})"
   ]
  },
  {
   "cell_type": "code",
   "execution_count": 20,
   "id": "ec0648ec",
   "metadata": {},
   "outputs": [
    {
     "data": {
      "text/html": [
       "<div>\n",
       "<style scoped>\n",
       "    .dataframe tbody tr th:only-of-type {\n",
       "        vertical-align: middle;\n",
       "    }\n",
       "\n",
       "    .dataframe tbody tr th {\n",
       "        vertical-align: top;\n",
       "    }\n",
       "\n",
       "    .dataframe thead th {\n",
       "        text-align: right;\n",
       "    }\n",
       "</style>\n",
       "<table border=\"1\" class=\"dataframe\">\n",
       "  <thead>\n",
       "    <tr style=\"text-align: right;\">\n",
       "      <th></th>\n",
       "      <th>longitude</th>\n",
       "      <th>latitude</th>\n",
       "      <th>housing_median_age</th>\n",
       "      <th>total_rooms</th>\n",
       "      <th>total_bedrooms</th>\n",
       "      <th>population</th>\n",
       "      <th>households</th>\n",
       "      <th>median_income</th>\n",
       "      <th>median_house_value</th>\n",
       "      <th>ocean_proximity</th>\n",
       "    </tr>\n",
       "  </thead>\n",
       "  <tbody>\n",
       "    <tr>\n",
       "      <th>20046</th>\n",
       "      <td>-119.01</td>\n",
       "      <td>36.06</td>\n",
       "      <td>25.0</td>\n",
       "      <td>1505.0</td>\n",
       "      <td>NaN</td>\n",
       "      <td>1392.0</td>\n",
       "      <td>359.0</td>\n",
       "      <td>1.6812</td>\n",
       "      <td>47700.0</td>\n",
       "      <td>INLAND</td>\n",
       "    </tr>\n",
       "    <tr>\n",
       "      <th>3024</th>\n",
       "      <td>-119.46</td>\n",
       "      <td>35.14</td>\n",
       "      <td>30.0</td>\n",
       "      <td>2943.0</td>\n",
       "      <td>NaN</td>\n",
       "      <td>1565.0</td>\n",
       "      <td>584.0</td>\n",
       "      <td>2.5313</td>\n",
       "      <td>45800.0</td>\n",
       "      <td>INLAND</td>\n",
       "    </tr>\n",
       "    <tr>\n",
       "      <th>15663</th>\n",
       "      <td>-122.44</td>\n",
       "      <td>37.80</td>\n",
       "      <td>52.0</td>\n",
       "      <td>3830.0</td>\n",
       "      <td>NaN</td>\n",
       "      <td>1310.0</td>\n",
       "      <td>963.0</td>\n",
       "      <td>3.4801</td>\n",
       "      <td>500001.0</td>\n",
       "      <td>NEAR BAY</td>\n",
       "    </tr>\n",
       "    <tr>\n",
       "      <th>20484</th>\n",
       "      <td>-118.72</td>\n",
       "      <td>34.28</td>\n",
       "      <td>17.0</td>\n",
       "      <td>3051.0</td>\n",
       "      <td>NaN</td>\n",
       "      <td>1705.0</td>\n",
       "      <td>495.0</td>\n",
       "      <td>5.7376</td>\n",
       "      <td>218600.0</td>\n",
       "      <td>&lt;1H OCEAN</td>\n",
       "    </tr>\n",
       "    <tr>\n",
       "      <th>9814</th>\n",
       "      <td>-121.93</td>\n",
       "      <td>36.62</td>\n",
       "      <td>34.0</td>\n",
       "      <td>2351.0</td>\n",
       "      <td>NaN</td>\n",
       "      <td>1063.0</td>\n",
       "      <td>428.0</td>\n",
       "      <td>3.7250</td>\n",
       "      <td>278000.0</td>\n",
       "      <td>NEAR OCEAN</td>\n",
       "    </tr>\n",
       "    <tr>\n",
       "      <th>...</th>\n",
       "      <td>...</td>\n",
       "      <td>...</td>\n",
       "      <td>...</td>\n",
       "      <td>...</td>\n",
       "      <td>...</td>\n",
       "      <td>...</td>\n",
       "      <td>...</td>\n",
       "      <td>...</td>\n",
       "      <td>...</td>\n",
       "      <td>...</td>\n",
       "    </tr>\n",
       "    <tr>\n",
       "      <th>15362</th>\n",
       "      <td>-117.22</td>\n",
       "      <td>33.36</td>\n",
       "      <td>16.0</td>\n",
       "      <td>3165.0</td>\n",
       "      <td>482.0</td>\n",
       "      <td>1351.0</td>\n",
       "      <td>452.0</td>\n",
       "      <td>4.6050</td>\n",
       "      <td>263300.0</td>\n",
       "      <td>&lt;1H OCEAN</td>\n",
       "    </tr>\n",
       "    <tr>\n",
       "      <th>16623</th>\n",
       "      <td>-120.83</td>\n",
       "      <td>35.36</td>\n",
       "      <td>28.0</td>\n",
       "      <td>4323.0</td>\n",
       "      <td>886.0</td>\n",
       "      <td>1650.0</td>\n",
       "      <td>705.0</td>\n",
       "      <td>2.7266</td>\n",
       "      <td>266800.0</td>\n",
       "      <td>NEAR OCEAN</td>\n",
       "    </tr>\n",
       "    <tr>\n",
       "      <th>18086</th>\n",
       "      <td>-122.05</td>\n",
       "      <td>37.31</td>\n",
       "      <td>25.0</td>\n",
       "      <td>4111.0</td>\n",
       "      <td>538.0</td>\n",
       "      <td>1585.0</td>\n",
       "      <td>568.0</td>\n",
       "      <td>9.2298</td>\n",
       "      <td>500001.0</td>\n",
       "      <td>&lt;1H OCEAN</td>\n",
       "    </tr>\n",
       "    <tr>\n",
       "      <th>2144</th>\n",
       "      <td>-119.76</td>\n",
       "      <td>36.77</td>\n",
       "      <td>36.0</td>\n",
       "      <td>2507.0</td>\n",
       "      <td>466.0</td>\n",
       "      <td>1227.0</td>\n",
       "      <td>474.0</td>\n",
       "      <td>2.7850</td>\n",
       "      <td>72300.0</td>\n",
       "      <td>INLAND</td>\n",
       "    </tr>\n",
       "    <tr>\n",
       "      <th>3665</th>\n",
       "      <td>-118.37</td>\n",
       "      <td>34.22</td>\n",
       "      <td>17.0</td>\n",
       "      <td>1787.0</td>\n",
       "      <td>463.0</td>\n",
       "      <td>1671.0</td>\n",
       "      <td>448.0</td>\n",
       "      <td>3.5521</td>\n",
       "      <td>151500.0</td>\n",
       "      <td>&lt;1H OCEAN</td>\n",
       "    </tr>\n",
       "  </tbody>\n",
       "</table>\n",
       "<p>4128 rows × 10 columns</p>\n",
       "</div>"
      ],
      "text/plain": [
       "       longitude  latitude  housing_median_age  total_rooms  total_bedrooms  \\\n",
       "20046    -119.01     36.06                25.0       1505.0             NaN   \n",
       "3024     -119.46     35.14                30.0       2943.0             NaN   \n",
       "15663    -122.44     37.80                52.0       3830.0             NaN   \n",
       "20484    -118.72     34.28                17.0       3051.0             NaN   \n",
       "9814     -121.93     36.62                34.0       2351.0             NaN   \n",
       "...          ...       ...                 ...          ...             ...   \n",
       "15362    -117.22     33.36                16.0       3165.0           482.0   \n",
       "16623    -120.83     35.36                28.0       4323.0           886.0   \n",
       "18086    -122.05     37.31                25.0       4111.0           538.0   \n",
       "2144     -119.76     36.77                36.0       2507.0           466.0   \n",
       "3665     -118.37     34.22                17.0       1787.0           463.0   \n",
       "\n",
       "       population  households  median_income  median_house_value  \\\n",
       "20046      1392.0       359.0         1.6812             47700.0   \n",
       "3024       1565.0       584.0         2.5313             45800.0   \n",
       "15663      1310.0       963.0         3.4801            500001.0   \n",
       "20484      1705.0       495.0         5.7376            218600.0   \n",
       "9814       1063.0       428.0         3.7250            278000.0   \n",
       "...           ...         ...            ...                 ...   \n",
       "15362      1351.0       452.0         4.6050            263300.0   \n",
       "16623      1650.0       705.0         2.7266            266800.0   \n",
       "18086      1585.0       568.0         9.2298            500001.0   \n",
       "2144       1227.0       474.0         2.7850             72300.0   \n",
       "3665       1671.0       448.0         3.5521            151500.0   \n",
       "\n",
       "      ocean_proximity  \n",
       "20046          INLAND  \n",
       "3024           INLAND  \n",
       "15663        NEAR BAY  \n",
       "20484       <1H OCEAN  \n",
       "9814       NEAR OCEAN  \n",
       "...               ...  \n",
       "15362       <1H OCEAN  \n",
       "16623      NEAR OCEAN  \n",
       "18086       <1H OCEAN  \n",
       "2144           INLAND  \n",
       "3665        <1H OCEAN  \n",
       "\n",
       "[4128 rows x 10 columns]"
      ]
     },
     "execution_count": 20,
     "metadata": {},
     "output_type": "execute_result"
    }
   ],
   "source": [
    "test_set"
   ]
  },
  {
   "cell_type": "code",
   "execution_count": 22,
   "id": "9f41cb47",
   "metadata": {},
   "outputs": [
    {
     "data": {
      "text/html": [
       "<div>\n",
       "<style scoped>\n",
       "    .dataframe tbody tr th:only-of-type {\n",
       "        vertical-align: middle;\n",
       "    }\n",
       "\n",
       "    .dataframe tbody tr th {\n",
       "        vertical-align: top;\n",
       "    }\n",
       "\n",
       "    .dataframe thead th {\n",
       "        text-align: right;\n",
       "    }\n",
       "</style>\n",
       "<table border=\"1\" class=\"dataframe\">\n",
       "  <thead>\n",
       "    <tr style=\"text-align: right;\">\n",
       "      <th></th>\n",
       "      <th>longitude</th>\n",
       "      <th>latitude</th>\n",
       "      <th>housing_median_age</th>\n",
       "      <th>total_rooms</th>\n",
       "      <th>total_bedrooms</th>\n",
       "      <th>population</th>\n",
       "      <th>households</th>\n",
       "      <th>median_income</th>\n",
       "      <th>ocean_proximity</th>\n",
       "    </tr>\n",
       "  </thead>\n",
       "  <tbody>\n",
       "    <tr>\n",
       "      <th>20046</th>\n",
       "      <td>-119.01</td>\n",
       "      <td>36.06</td>\n",
       "      <td>25.0</td>\n",
       "      <td>1505.0</td>\n",
       "      <td>NaN</td>\n",
       "      <td>1392.0</td>\n",
       "      <td>359.0</td>\n",
       "      <td>1.6812</td>\n",
       "      <td>INLAND</td>\n",
       "    </tr>\n",
       "    <tr>\n",
       "      <th>3024</th>\n",
       "      <td>-119.46</td>\n",
       "      <td>35.14</td>\n",
       "      <td>30.0</td>\n",
       "      <td>2943.0</td>\n",
       "      <td>NaN</td>\n",
       "      <td>1565.0</td>\n",
       "      <td>584.0</td>\n",
       "      <td>2.5313</td>\n",
       "      <td>INLAND</td>\n",
       "    </tr>\n",
       "    <tr>\n",
       "      <th>15663</th>\n",
       "      <td>-122.44</td>\n",
       "      <td>37.80</td>\n",
       "      <td>52.0</td>\n",
       "      <td>3830.0</td>\n",
       "      <td>NaN</td>\n",
       "      <td>1310.0</td>\n",
       "      <td>963.0</td>\n",
       "      <td>3.4801</td>\n",
       "      <td>NEAR BAY</td>\n",
       "    </tr>\n",
       "    <tr>\n",
       "      <th>20484</th>\n",
       "      <td>-118.72</td>\n",
       "      <td>34.28</td>\n",
       "      <td>17.0</td>\n",
       "      <td>3051.0</td>\n",
       "      <td>NaN</td>\n",
       "      <td>1705.0</td>\n",
       "      <td>495.0</td>\n",
       "      <td>5.7376</td>\n",
       "      <td>&lt;1H OCEAN</td>\n",
       "    </tr>\n",
       "    <tr>\n",
       "      <th>9814</th>\n",
       "      <td>-121.93</td>\n",
       "      <td>36.62</td>\n",
       "      <td>34.0</td>\n",
       "      <td>2351.0</td>\n",
       "      <td>NaN</td>\n",
       "      <td>1063.0</td>\n",
       "      <td>428.0</td>\n",
       "      <td>3.7250</td>\n",
       "      <td>NEAR OCEAN</td>\n",
       "    </tr>\n",
       "    <tr>\n",
       "      <th>...</th>\n",
       "      <td>...</td>\n",
       "      <td>...</td>\n",
       "      <td>...</td>\n",
       "      <td>...</td>\n",
       "      <td>...</td>\n",
       "      <td>...</td>\n",
       "      <td>...</td>\n",
       "      <td>...</td>\n",
       "      <td>...</td>\n",
       "    </tr>\n",
       "    <tr>\n",
       "      <th>15362</th>\n",
       "      <td>-117.22</td>\n",
       "      <td>33.36</td>\n",
       "      <td>16.0</td>\n",
       "      <td>3165.0</td>\n",
       "      <td>482.0</td>\n",
       "      <td>1351.0</td>\n",
       "      <td>452.0</td>\n",
       "      <td>4.6050</td>\n",
       "      <td>&lt;1H OCEAN</td>\n",
       "    </tr>\n",
       "    <tr>\n",
       "      <th>16623</th>\n",
       "      <td>-120.83</td>\n",
       "      <td>35.36</td>\n",
       "      <td>28.0</td>\n",
       "      <td>4323.0</td>\n",
       "      <td>886.0</td>\n",
       "      <td>1650.0</td>\n",
       "      <td>705.0</td>\n",
       "      <td>2.7266</td>\n",
       "      <td>NEAR OCEAN</td>\n",
       "    </tr>\n",
       "    <tr>\n",
       "      <th>18086</th>\n",
       "      <td>-122.05</td>\n",
       "      <td>37.31</td>\n",
       "      <td>25.0</td>\n",
       "      <td>4111.0</td>\n",
       "      <td>538.0</td>\n",
       "      <td>1585.0</td>\n",
       "      <td>568.0</td>\n",
       "      <td>9.2298</td>\n",
       "      <td>&lt;1H OCEAN</td>\n",
       "    </tr>\n",
       "    <tr>\n",
       "      <th>2144</th>\n",
       "      <td>-119.76</td>\n",
       "      <td>36.77</td>\n",
       "      <td>36.0</td>\n",
       "      <td>2507.0</td>\n",
       "      <td>466.0</td>\n",
       "      <td>1227.0</td>\n",
       "      <td>474.0</td>\n",
       "      <td>2.7850</td>\n",
       "      <td>INLAND</td>\n",
       "    </tr>\n",
       "    <tr>\n",
       "      <th>3665</th>\n",
       "      <td>-118.37</td>\n",
       "      <td>34.22</td>\n",
       "      <td>17.0</td>\n",
       "      <td>1787.0</td>\n",
       "      <td>463.0</td>\n",
       "      <td>1671.0</td>\n",
       "      <td>448.0</td>\n",
       "      <td>3.5521</td>\n",
       "      <td>&lt;1H OCEAN</td>\n",
       "    </tr>\n",
       "  </tbody>\n",
       "</table>\n",
       "<p>4128 rows × 9 columns</p>\n",
       "</div>"
      ],
      "text/plain": [
       "       longitude  latitude  housing_median_age  total_rooms  total_bedrooms  \\\n",
       "20046    -119.01     36.06                25.0       1505.0             NaN   \n",
       "3024     -119.46     35.14                30.0       2943.0             NaN   \n",
       "15663    -122.44     37.80                52.0       3830.0             NaN   \n",
       "20484    -118.72     34.28                17.0       3051.0             NaN   \n",
       "9814     -121.93     36.62                34.0       2351.0             NaN   \n",
       "...          ...       ...                 ...          ...             ...   \n",
       "15362    -117.22     33.36                16.0       3165.0           482.0   \n",
       "16623    -120.83     35.36                28.0       4323.0           886.0   \n",
       "18086    -122.05     37.31                25.0       4111.0           538.0   \n",
       "2144     -119.76     36.77                36.0       2507.0           466.0   \n",
       "3665     -118.37     34.22                17.0       1787.0           463.0   \n",
       "\n",
       "       population  households  median_income ocean_proximity  \n",
       "20046      1392.0       359.0         1.6812          INLAND  \n",
       "3024       1565.0       584.0         2.5313          INLAND  \n",
       "15663      1310.0       963.0         3.4801        NEAR BAY  \n",
       "20484      1705.0       495.0         5.7376       <1H OCEAN  \n",
       "9814       1063.0       428.0         3.7250      NEAR OCEAN  \n",
       "...           ...         ...            ...             ...  \n",
       "15362      1351.0       452.0         4.6050       <1H OCEAN  \n",
       "16623      1650.0       705.0         2.7266      NEAR OCEAN  \n",
       "18086      1585.0       568.0         9.2298       <1H OCEAN  \n",
       "2144       1227.0       474.0         2.7850          INLAND  \n",
       "3665       1671.0       448.0         3.5521       <1H OCEAN  \n",
       "\n",
       "[4128 rows x 9 columns]"
      ]
     },
     "execution_count": 22,
     "metadata": {},
     "output_type": "execute_result"
    }
   ],
   "source": [
    "X_test = test_set.drop('median_house_value', axis=1)\n",
    "X_test"
   ]
  },
  {
   "cell_type": "code",
   "execution_count": 24,
   "id": "fda90d03",
   "metadata": {},
   "outputs": [
    {
     "data": {
      "text/plain": [
       "20046     47700.0\n",
       "3024      45800.0\n",
       "15663    500001.0\n",
       "20484    218600.0\n",
       "9814     278000.0\n",
       "           ...   \n",
       "15362    263300.0\n",
       "16623    266800.0\n",
       "18086    500001.0\n",
       "2144      72300.0\n",
       "3665     151500.0\n",
       "Name: median_house_value, Length: 4128, dtype: float64"
      ]
     },
     "execution_count": 24,
     "metadata": {},
     "output_type": "execute_result"
    }
   ],
   "source": [
    "y_test = test_set['median_house_value'].copy()\n",
    "y_test"
   ]
  },
  {
   "cell_type": "code",
   "execution_count": 26,
   "id": "8ee5e305",
   "metadata": {},
   "outputs": [
    {
     "data": {
      "text/plain": [
       "array([[ 0.28534728,  0.1951    , -0.28632369, ...,  0.        ,\n",
       "         0.        ,  0.        ],\n",
       "       [ 0.06097472, -0.23549054,  0.11043502, ...,  0.        ,\n",
       "         0.        ,  0.        ],\n",
       "       [-1.42487026,  1.00947776,  1.85617335, ...,  0.        ,\n",
       "         1.        ,  0.        ],\n",
       "       ...,\n",
       "       [-1.23041404,  0.78014149, -0.28632369, ...,  0.        ,\n",
       "         0.        ,  0.        ],\n",
       "       [-0.08860699,  0.52740357,  0.58654547, ...,  0.        ,\n",
       "         0.        ,  0.        ],\n",
       "       [ 0.60445493, -0.66608108, -0.92113763, ...,  0.        ,\n",
       "         0.        ,  0.        ]])"
      ]
     },
     "execution_count": 26,
     "metadata": {},
     "output_type": "execute_result"
    }
   ],
   "source": [
    "X_test_prepared = full_pipeline.transform(X_test)\n",
    "X_test_prepared"
   ]
  },
  {
   "cell_type": "code",
   "execution_count": 27,
   "id": "c8d201c0",
   "metadata": {},
   "outputs": [],
   "source": [
    "y_predicted = LR_model.predict(X_test_prepared)"
   ]
  },
  {
   "cell_type": "code",
   "execution_count": 28,
   "id": "2681220a",
   "metadata": {},
   "outputs": [
    {
     "data": {
      "text/plain": [
       "array([ 61874.25460143, 121853.52511139, 267770.94368091, ...,\n",
       "       447837.04647878, 117275.9214608 , 185597.46125194])"
      ]
     },
     "execution_count": 28,
     "metadata": {},
     "output_type": "execute_result"
    }
   ],
   "source": [
    "y_predicted"
   ]
  },
  {
   "cell_type": "code",
   "execution_count": 29,
   "id": "bda73996",
   "metadata": {},
   "outputs": [
    {
     "data": {
      "text/html": [
       "<div>\n",
       "<style scoped>\n",
       "    .dataframe tbody tr th:only-of-type {\n",
       "        vertical-align: middle;\n",
       "    }\n",
       "\n",
       "    .dataframe tbody tr th {\n",
       "        vertical-align: top;\n",
       "    }\n",
       "\n",
       "    .dataframe thead th {\n",
       "        text-align: right;\n",
       "    }\n",
       "</style>\n",
       "<table border=\"1\" class=\"dataframe\">\n",
       "  <thead>\n",
       "    <tr style=\"text-align: right;\">\n",
       "      <th></th>\n",
       "      <th>Bashorat</th>\n",
       "      <th>Asl narxi</th>\n",
       "    </tr>\n",
       "  </thead>\n",
       "  <tbody>\n",
       "    <tr>\n",
       "      <th>20046</th>\n",
       "      <td>61874.254601</td>\n",
       "      <td>47700.0</td>\n",
       "    </tr>\n",
       "    <tr>\n",
       "      <th>3024</th>\n",
       "      <td>121853.525111</td>\n",
       "      <td>45800.0</td>\n",
       "    </tr>\n",
       "    <tr>\n",
       "      <th>15663</th>\n",
       "      <td>267770.943681</td>\n",
       "      <td>500001.0</td>\n",
       "    </tr>\n",
       "    <tr>\n",
       "      <th>20484</th>\n",
       "      <td>264468.298380</td>\n",
       "      <td>218600.0</td>\n",
       "    </tr>\n",
       "    <tr>\n",
       "      <th>9814</th>\n",
       "      <td>258485.695855</td>\n",
       "      <td>278000.0</td>\n",
       "    </tr>\n",
       "    <tr>\n",
       "      <th>...</th>\n",
       "      <td>...</td>\n",
       "      <td>...</td>\n",
       "    </tr>\n",
       "    <tr>\n",
       "      <th>15362</th>\n",
       "      <td>214774.565911</td>\n",
       "      <td>263300.0</td>\n",
       "    </tr>\n",
       "    <tr>\n",
       "      <th>16623</th>\n",
       "      <td>236868.742582</td>\n",
       "      <td>266800.0</td>\n",
       "    </tr>\n",
       "    <tr>\n",
       "      <th>18086</th>\n",
       "      <td>447837.046479</td>\n",
       "      <td>500001.0</td>\n",
       "    </tr>\n",
       "    <tr>\n",
       "      <th>2144</th>\n",
       "      <td>117275.921461</td>\n",
       "      <td>72300.0</td>\n",
       "    </tr>\n",
       "    <tr>\n",
       "      <th>3665</th>\n",
       "      <td>185597.461252</td>\n",
       "      <td>151500.0</td>\n",
       "    </tr>\n",
       "  </tbody>\n",
       "</table>\n",
       "<p>4128 rows × 2 columns</p>\n",
       "</div>"
      ],
      "text/plain": [
       "            Bashorat  Asl narxi\n",
       "20046   61874.254601    47700.0\n",
       "3024   121853.525111    45800.0\n",
       "15663  267770.943681   500001.0\n",
       "20484  264468.298380   218600.0\n",
       "9814   258485.695855   278000.0\n",
       "...              ...        ...\n",
       "15362  214774.565911   263300.0\n",
       "16623  236868.742582   266800.0\n",
       "18086  447837.046479   500001.0\n",
       "2144   117275.921461    72300.0\n",
       "3665   185597.461252   151500.0\n",
       "\n",
       "[4128 rows x 2 columns]"
      ]
     },
     "execution_count": 29,
     "metadata": {},
     "output_type": "execute_result"
    }
   ],
   "source": [
    "pd.DataFrame({\n",
    "    'Bashorat':y_predicted,\n",
    "    'Asl narxi':y_test\n",
    "})"
   ]
  },
  {
   "cell_type": "code",
   "execution_count": 34,
   "id": "46b023ad",
   "metadata": {},
   "outputs": [
    {
     "data": {
      "text/plain": [
       "50898.73953494079"
      ]
     },
     "execution_count": 34,
     "metadata": {},
     "output_type": "execute_result"
    }
   ],
   "source": [
    "from sklearn.metrics import mean_absolute_error\n",
    "\n",
    "mae = mean_absolute_error(y_test, y_predicted)\n",
    "mae     # o'rtacha 50 ming dollarga xato qilyapti"
   ]
  },
  {
   "cell_type": "code",
   "execution_count": 33,
   "id": "5382d217",
   "metadata": {},
   "outputs": [
    {
     "name": "stdout",
     "output_type": "stream",
     "text": [
      "RMSE= 72701.32600762135\n"
     ]
    }
   ],
   "source": [
    "from sklearn.metrics import mean_squared_error\n",
    "mse =  mean_squared_error(y_test, y_predicted)\n",
    "\n",
    "print(\"RMSE=\", np.sqrt(mse)) # o'rtacha 72 ming dollarga xato qilyapti"
   ]
  },
  {
   "cell_type": "code",
   "execution_count": 36,
   "id": "3dcd031a",
   "metadata": {},
   "outputs": [
    {
     "data": {
      "text/plain": [
       "RandomForestRegressor()"
      ]
     },
     "execution_count": 36,
     "metadata": {},
     "output_type": "execute_result"
    }
   ],
   "source": [
    "from sklearn.ensemble import RandomForestRegressor\n",
    "RF_model = RandomForestRegressor()\n",
    "RF_model.fit(X_prepared, y)"
   ]
  },
  {
   "cell_type": "code",
   "execution_count": 37,
   "id": "59d4a2c7",
   "metadata": {},
   "outputs": [],
   "source": [
    "y_predicted = RF_model.predict(X_test_prepared)"
   ]
  },
  {
   "cell_type": "code",
   "execution_count": 38,
   "id": "cb485d19",
   "metadata": {},
   "outputs": [
    {
     "name": "stdout",
     "output_type": "stream",
     "text": [
      "RMSE= 50157.85992581288\n"
     ]
    }
   ],
   "source": [
    "from sklearn.metrics import mean_squared_error\n",
    "mse =  mean_squared_error(y_test, y_predicted)\n",
    "\n",
    "print(\"RMSE=\", np.sqrt(mse)) # buning xatoligi esa 50 ming dollar"
   ]
  },
  {
   "cell_type": "code",
   "execution_count": 39,
   "id": "a6c212ad",
   "metadata": {},
   "outputs": [
    {
     "data": {
      "text/plain": [
       "32325.317056686043"
      ]
     },
     "execution_count": 39,
     "metadata": {},
     "output_type": "execute_result"
    }
   ],
   "source": [
    "from sklearn.metrics import mean_absolute_error\n",
    "\n",
    "mae = mean_absolute_error(y_test, y_predicted)\n",
    "mae # bu esa undan ancha yaxshiroq, yani 32 ming dollar xato qilyapti"
   ]
  },
  {
   "cell_type": "code",
   "execution_count": 40,
   "id": "a12a8480",
   "metadata": {},
   "outputs": [],
   "source": [
    "# Cross validation ----- Modelni baholash"
   ]
  },
  {
   "cell_type": "code",
   "execution_count": 48,
   "id": "f6a0ada3",
   "metadata": {},
   "outputs": [],
   "source": [
    "X = df.drop('median_house_value', axis=1)\n",
    "y = df['median_house_value'].copy()\n",
    "\n",
    "X_prepared = full_pipeline.transform(X)"
   ]
  },
  {
   "cell_type": "code",
   "execution_count": 52,
   "id": "8b053dc2",
   "metadata": {},
   "outputs": [],
   "source": [
    "from sklearn.model_selection import cross_val_score\n",
    "\n",
    "mse_scores = cross_val_score(LR_model, X_prepared, y, scoring=\"neg_mean_squared_error\", cv=5)"
   ]
  },
  {
   "cell_type": "code",
   "execution_count": 53,
   "id": "8bc4da19",
   "metadata": {},
   "outputs": [],
   "source": [
    "def display_scores(scores):\n",
    "    print(\"Scores:\", scores)\n",
    "    print(\"Mean:\", scores.mean())\n",
    "    print(\"Std.dev:\", scores.std())"
   ]
  },
  {
   "cell_type": "code",
   "execution_count": 54,
   "id": "9bd6b8b8",
   "metadata": {},
   "outputs": [
    {
     "name": "stdout",
     "output_type": "stream",
     "text": [
      "Scores: [73394.92502922 74814.24096819 75431.93119241 76608.78768825\n",
      " 66196.48128669]\n",
      "Mean: 73289.27323295095\n",
      "Std.dev: 3694.713678722368\n"
     ]
    }
   ],
   "source": [
    "display_scores(np.sqrt(-mse_scores))"
   ]
  },
  {
   "cell_type": "code",
   "execution_count": 55,
   "id": "1e4bb266",
   "metadata": {},
   "outputs": [
    {
     "name": "stdout",
     "output_type": "stream",
     "text": [
      "Scores: [98572.13179809 47458.13287116 65155.97477854 56277.43720742\n",
      " 61360.65258141 60526.72751224 47241.81725228 78459.11718172\n",
      " 73844.02210611 49821.65071537]\n",
      "Mean: 63871.76640043252\n",
      "Std.dev: 15285.739678861943\n"
     ]
    }
   ],
   "source": [
    "scores = cross_val_score(RF_model, X_prepared, y, scoring=\"neg_mean_squared_error\", cv=10)\n",
    "LR_rmse_scores = np.sqrt(-scores)\n",
    "display_scores(LR_rmse_scores)"
   ]
  },
  {
   "cell_type": "code",
   "execution_count": 56,
   "id": "d8fa9521",
   "metadata": {},
   "outputs": [],
   "source": [
    "# Agar bizda malumot juda ham kam bo'lsa, ya'ni biz 80% ni training 20% ni\n",
    "# test uchun ololmaydigan bo'lsak, biz cross validationdan foydalanganimiz\n",
    "# maqul"
   ]
  },
  {
   "cell_type": "code",
   "execution_count": 57,
   "id": "fda9528f",
   "metadata": {},
   "outputs": [],
   "source": [
    "# malumotlarni saqlashni PICKLE uslubi\n",
    "import pickle\n",
    "\n",
    "filename = 'RF_model.pkl' # faylga nom berish\n",
    "with open(filename, 'wb') as file:\n",
    "    pickle.dump(RF_model, file)"
   ]
  },
  {
   "cell_type": "code",
   "execution_count": 58,
   "id": "426c2c91",
   "metadata": {},
   "outputs": [],
   "source": [
    "# modelni qaytarib o'qish esa quyidagicha\n",
    "with open(filename, 'rb') as file:\n",
    "    model = pickle.load(file)"
   ]
  },
  {
   "cell_type": "code",
   "execution_count": 59,
   "id": "0c77f9e3",
   "metadata": {},
   "outputs": [
    {
     "data": {
      "text/plain": [
       "['RF_model.jbl']"
      ]
     },
     "execution_count": 59,
     "metadata": {},
     "output_type": "execute_result"
    }
   ],
   "source": [
    "# joblib ---- Bu katta malumotlarni saqlashda keng qo'llaniladigan usul\n",
    "# Agar biz nafaqat modelni balki pipeline, yoki boshqa modullarni ham\n",
    "# saqlashimiz kerak bo'lsa, shuni ishlatamiz\n",
    "import joblib\n",
    "\n",
    "filename = 'RF_model.jbl' # file ga nom berish\n",
    "joblib.dump(RF_model, filename)"
   ]
  },
  {
   "cell_type": "code",
   "execution_count": 60,
   "id": "4d9e9bda",
   "metadata": {},
   "outputs": [
    {
     "data": {
      "text/plain": [
       "['LR_model']"
      ]
     },
     "execution_count": 60,
     "metadata": {},
     "output_type": "execute_result"
    }
   ],
   "source": [
    "filename = 'LR_model' # file nomi\n",
    "joblib.dump(LR_model, filename)"
   ]
  },
  {
   "cell_type": "code",
   "execution_count": 61,
   "id": "fee8b128",
   "metadata": {},
   "outputs": [],
   "source": [
    "# modelni o'qish\n",
    "model = joblib.load(filename)"
   ]
  },
  {
   "cell_type": "code",
   "execution_count": null,
   "id": "c72e2cd3",
   "metadata": {},
   "outputs": [],
   "source": []
  }
 ],
 "metadata": {
  "kernelspec": {
   "display_name": "Python 3 (ipykernel)",
   "language": "python",
   "name": "python3"
  },
  "language_info": {
   "codemirror_mode": {
    "name": "ipython",
    "version": 3
   },
   "file_extension": ".py",
   "mimetype": "text/x-python",
   "name": "python",
   "nbconvert_exporter": "python",
   "pygments_lexer": "ipython3",
   "version": "3.9.13"
  }
 },
 "nbformat": 4,
 "nbformat_minor": 5
}
